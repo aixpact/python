{
 "cells": [
  {
   "cell_type": "code",
   "execution_count": 1,
   "metadata": {},
   "outputs": [
    {
     "name": "stdout",
     "output_type": "stream",
     "text": [
      "/Users/frank/aixpact/_networks\n"
     ]
    }
   ],
   "source": [
    "!pwd"
   ]
  },
  {
   "cell_type": "code",
   "execution_count": 2,
   "metadata": {},
   "outputs": [],
   "source": [
    "!cp ../.gitignore ./.gitignore\n",
    "!cp ../LICENSE ./LICENSE"
   ]
  },
  {
   "cell_type": "code",
   "execution_count": 3,
   "metadata": {},
   "outputs": [
    {
     "name": "stdout",
     "output_type": "stream",
     "text": [
      "Initialized empty Git repository in /Users/frank/aixpact/_networks/.git/\n"
     ]
    }
   ],
   "source": [
    "!rm -rf .git # remove git init\n",
    "!git init"
   ]
  },
  {
   "cell_type": "code",
   "execution_count": 5,
   "metadata": {},
   "outputs": [],
   "source": [
    "!echo \"# Network projects and code\" > README.md\n",
    "!git add README.md"
   ]
  },
  {
   "cell_type": "code",
   "execution_count": 6,
   "metadata": {},
   "outputs": [
    {
     "name": "stdout",
     "output_type": "stream",
     "text": [
      "The following paths are ignored by one of your .gitignore files:\n",
      "data.pickle\n",
      "Use -f if you really want to add them.\n"
     ]
    }
   ],
   "source": [
    "!git add ./*"
   ]
  },
  {
   "cell_type": "code",
   "execution_count": 7,
   "metadata": {},
   "outputs": [
    {
     "name": "stdout",
     "output_type": "stream",
     "text": [
      "On branch master\n",
      "\n",
      "Initial commit\n",
      "\n",
      "Changes to be committed:\n",
      "  (use \"git rm --cached <file>...\" to unstage)\n",
      "\n",
      "\t\u001b[32mnew file:   LICENSE\u001b[m\n",
      "\t\u001b[32mnew file:   Michigan - Network/Assignment+3+TODO.ipynb\u001b[m\n",
      "\t\u001b[32mnew file:   README.md\u001b[m\n",
      "\t\u001b[32mnew file:   Untitled.ipynb\u001b[m\n",
      "\t\u001b[32mnew file:   Visualizing+Graphs+with+NetworkX.ipynb\u001b[m\n",
      "\t\u001b[32mnew file:   bipartite_graph.ipynb\u001b[m\n",
      "\t\u001b[32mnew file:   git.ipynb\u001b[m\n",
      "\t\u001b[32mnew file:   hashlib_password_encrypt.ipynb\u001b[m\n",
      "\t\u001b[32mnew file:   loading_graphs_networkx_chess_wins.ipynb\u001b[m\n",
      "\t\u001b[32mnew file:   machine_learning_networkx_graph_type.ipynb\u001b[m\n",
      "\t\u001b[32mnew file:   networkx_bipartite_weighted_graphs.ipynb\u001b[m\n",
      "\t\u001b[32mnew file:   networkx_cartopy_map.ipynb\u001b[m\n",
      "\t\u001b[32mnew file:   networkx_connectivity.ipynb\u001b[m\n",
      "\t\u001b[32mnew file:   networkx_geometric_graph_flights.ipynb\u001b[m\n",
      "\t\u001b[32mnew file:   networkx_graph_distribution_types.ipynb\u001b[m\n",
      "\t\u001b[32mnew file:   networkx_graph_features.ipynb\u001b[m\n",
      "\t\u001b[32mnew file:   nxgraphs_basic_intro.ipynb\u001b[m\n",
      "\t\u001b[32mnew file:   quilt_geoplot_cartopy.ipynb\u001b[m\n",
      "\n",
      "Untracked files:\n",
      "  (use \"git add <file>...\" to include in what will be committed)\n",
      "\n",
      "\t\u001b[31m.gitignore\u001b[m\n",
      "\n"
     ]
    }
   ],
   "source": [
    "!git status"
   ]
  },
  {
   "cell_type": "code",
   "execution_count": 8,
   "metadata": {},
   "outputs": [
    {
     "name": "stdout",
     "output_type": "stream",
     "text": [
      "[master (root-commit) 6cccbfd] first commit\n",
      " 18 files changed, 18651 insertions(+)\n",
      " create mode 100644 LICENSE\n",
      " create mode 100644 Michigan - Network/Assignment+3+TODO.ipynb\n",
      " create mode 100644 README.md\n",
      " create mode 100644 Untitled.ipynb\n",
      " create mode 100644 Visualizing+Graphs+with+NetworkX.ipynb\n",
      " create mode 100644 bipartite_graph.ipynb\n",
      " create mode 100644 git.ipynb\n",
      " create mode 100644 hashlib_password_encrypt.ipynb\n",
      " create mode 100644 loading_graphs_networkx_chess_wins.ipynb\n",
      " create mode 100644 machine_learning_networkx_graph_type.ipynb\n",
      " create mode 100644 networkx_bipartite_weighted_graphs.ipynb\n",
      " create mode 100644 networkx_cartopy_map.ipynb\n",
      " create mode 100644 networkx_connectivity.ipynb\n",
      " create mode 100644 networkx_geometric_graph_flights.ipynb\n",
      " create mode 100644 networkx_graph_distribution_types.ipynb\n",
      " create mode 100644 networkx_graph_features.ipynb\n",
      " create mode 100644 nxgraphs_basic_intro.ipynb\n",
      " create mode 100644 quilt_geoplot_cartopy.ipynb\n",
      "Counting objects: 21, done.\n",
      "Delta compression using up to 4 threads.\n",
      "Compressing objects: 100% (20/20), done.\n",
      "Writing objects: 100% (21/21), 16.01 MiB | 2.06 MiB/s, done.\n",
      "Total 21 (delta 3), reused 0 (delta 0)\n",
      "remote: Resolving deltas: 100% (3/3), done.\u001b[K\n",
      "To https://github.com/aixpact/networks.git\n",
      " * [new branch]      master -> master\n",
      "Branch master set up to track remote branch master from origin.\n",
      "push done.\n"
     ]
    }
   ],
   "source": [
    "!git commit -am \"first commit\"\n",
    "!git remote add origin https://github.com/aixpact/networks.git\n",
    "# !git fetch\n",
    "!git push -u origin master\n",
    "print('push done.')"
   ]
  },
  {
   "cell_type": "code",
   "execution_count": null,
   "metadata": {},
   "outputs": [],
   "source": []
  }
 ],
 "metadata": {
  "kernelspec": {
   "display_name": "Python 3",
   "language": "python",
   "name": "python3"
  },
  "language_info": {
   "codemirror_mode": {
    "name": "ipython",
    "version": 3
   },
   "file_extension": ".py",
   "mimetype": "text/x-python",
   "name": "python",
   "nbconvert_exporter": "python",
   "pygments_lexer": "ipython3",
   "version": "3.6.5"
  }
 },
 "nbformat": 4,
 "nbformat_minor": 2
}
